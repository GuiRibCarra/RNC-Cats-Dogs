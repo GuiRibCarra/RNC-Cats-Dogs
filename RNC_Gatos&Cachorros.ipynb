{
  "nbformat": 4,
  "nbformat_minor": 0,
  "metadata": {
    "colab": {
      "provenance": [],
      "collapsed_sections": [
        "W0vRHysJ9ua7",
        "4gwLijsPCET7"
      ],
      "mount_file_id": "17gF-4CaS3KtWgvj6YlDRpxp0gjhPK-M2",
      "authorship_tag": "ABX9TyOwI4+tx4vMbeF9lUB3boIh",
      "include_colab_link": true
    },
    "kernelspec": {
      "name": "python3",
      "display_name": "Python 3"
    },
    "language_info": {
      "name": "python"
    }
  },
  "cells": [
    {
      "cell_type": "markdown",
      "metadata": {
        "id": "view-in-github",
        "colab_type": "text"
      },
      "source": [
        "<a href=\"https://colab.research.google.com/github/GuiRibCarra/RNC-Gatos-Cachorros/blob/main/RNC_Gatos%26Cachorros.ipynb\" target=\"_parent\"><img src=\"https://colab.research.google.com/assets/colab-badge.svg\" alt=\"Open In Colab\"/></a>"
      ]
    },
    {
      "cell_type": "markdown",
      "source": [
        "Rede Neural Convolucional - Gatos e Cachorros"
      ],
      "metadata": {
        "id": "Pc7OR8Ih9ko-"
      }
    },
    {
      "cell_type": "markdown",
      "source": [
        "# Bibliotecas"
      ],
      "metadata": {
        "id": "juv_amFM9qIN"
      }
    },
    {
      "cell_type": "code",
      "execution_count": null,
      "metadata": {
        "id": "p5qeK0-r9Rku"
      },
      "outputs": [],
      "source": [
        "import tensorflow as tf\n",
        "from tensorflow.keras.models import Sequential\n",
        "from tensorflow.keras.layers import Conv2D, MaxPooling2D, Flatten, Dense\n",
        "from tensorflow.keras.preprocessing.image import ImageDataGenerator\n",
        "import zipfile\n",
        "from sklearn.metrics import accuracy_score"
      ]
    },
    {
      "cell_type": "markdown",
      "source": [
        "# Carregamento das Imagens"
      ],
      "metadata": {
        "id": "W0vRHysJ9ua7"
      }
    },
    {
      "cell_type": "code",
      "source": [
        "path = '/content/drive/MyDrive/Cópia de dataset_gato_cachorro.zip'\n",
        "zip_object = zipfile.ZipFile(file=path, mode=\"r\")\n",
        "zip_object.extractall(\"./\")\n",
        "zip_object.close()"
      ],
      "metadata": {
        "id": "mbN7RHsFBVon"
      },
      "execution_count": null,
      "outputs": []
    },
    {
      "cell_type": "markdown",
      "source": [
        "# Construção: Base de Treinamento e de Teste"
      ],
      "metadata": {
        "id": "4gwLijsPCET7"
      }
    },
    {
      "cell_type": "code",
      "source": [
        "gerador_treinamento = ImageDataGenerator(rescale = 1./255,\n",
        "                                         rotation_range = 7,\n",
        "                                         horizontal_flip = True,\n",
        "                                         shear_range = 0.2,\n",
        "                                         height_shift_range = 0.07,\n",
        "                                         zoom_range = 0.2)\n",
        "\n",
        "base_treinamento = gerador_treinamento.flow_from_directory('/content/dataset/training_set',\n",
        "                                                           target_size = (64, 64),\n",
        "                                                           batch_size = 32,\n",
        "                                                           class_mode = 'binary')\n",
        "\n",
        "gerador_teste = ImageDataGenerator(rescale = 1./255)\n",
        "\n",
        "base_teste = gerador_teste.flow_from_directory('/content/dataset/test_set',\n",
        "                                               target_size = (64, 64),\n",
        "                                               batch_size = 32,\n",
        "                                               class_mode = 'binary',\n",
        "                                               shuffle=False)"
      ],
      "metadata": {
        "colab": {
          "base_uri": "https://localhost:8080/"
        },
        "id": "BlkJ6rvWCKJS",
        "outputId": "015933ce-cdab-4734-d1e7-b9d6f82c5bb6"
      },
      "execution_count": null,
      "outputs": [
        {
          "output_type": "stream",
          "name": "stdout",
          "text": [
            "Found 4000 images belonging to 2 classes.\n",
            "Found 1000 images belonging to 2 classes.\n"
          ]
        }
      ]
    },
    {
      "cell_type": "markdown",
      "source": [
        "# Construção e Treinamento da Rede Neural"
      ],
      "metadata": {
        "id": "_q9jvIZnCY04"
      }
    },
    {
      "cell_type": "code",
      "source": [
        "classificador = Sequential()\n",
        "classificador.add(Conv2D(32, (3,3), input_shape = (64, 64, 3), activation = 'relu'))\n",
        "classificador.add(MaxPooling2D(pool_size = (2,2)))\n",
        "\n",
        "classificador.add(Conv2D(32, (3,3), activation = 'relu'))\n",
        "classificador.add(MaxPooling2D(pool_size = (2,2)))\n",
        "\n",
        "classificador.add(Flatten())\n",
        "\n",
        "classificador.add(Dense(units = 128, activation = 'relu'))\n",
        "classificador.add(Dense(units = 128, activation = 'relu'))\n",
        "classificador.add(Dense(units = 1, activation = 'sigmoid'))\n",
        "\n",
        "classificador.compile(optimizer = 'adam', loss = 'binary_crossentropy',\n",
        "                      metrics = ['accuracy'])"
      ],
      "metadata": {
        "id": "eiGeWEOfCgsn"
      },
      "execution_count": null,
      "outputs": []
    },
    {
      "cell_type": "code",
      "source": [
        "classificador.fit_generator(base_treinamento, epochs = 10, validation_data=base_teste)"
      ],
      "metadata": {
        "colab": {
          "base_uri": "https://localhost:8080/"
        },
        "id": "Sjo71mylDYhB",
        "outputId": "12315532-f854-4977-aab5-40151748e684"
      },
      "execution_count": null,
      "outputs": [
        {
          "output_type": "stream",
          "name": "stderr",
          "text": [
            "<ipython-input-5-4a77c1193840>:1: UserWarning: `Model.fit_generator` is deprecated and will be removed in a future version. Please use `Model.fit`, which supports generators.\n",
            "  classificador.fit_generator(base_treinamento, epochs = 10, validation_data=base_teste)\n"
          ]
        },
        {
          "output_type": "stream",
          "name": "stdout",
          "text": [
            "Epoch 1/10\n",
            "125/125 [==============================] - 51s 394ms/step - loss: 0.6890 - accuracy: 0.5375 - val_loss: 0.6554 - val_accuracy: 0.6380\n",
            "Epoch 2/10\n",
            "125/125 [==============================] - 58s 464ms/step - loss: 0.6452 - accuracy: 0.6325 - val_loss: 0.6277 - val_accuracy: 0.6530\n",
            "Epoch 3/10\n",
            "125/125 [==============================] - 49s 393ms/step - loss: 0.6154 - accuracy: 0.6560 - val_loss: 0.6272 - val_accuracy: 0.6610\n",
            "Epoch 4/10\n",
            "125/125 [==============================] - 46s 369ms/step - loss: 0.5864 - accuracy: 0.6890 - val_loss: 0.6068 - val_accuracy: 0.6640\n",
            "Epoch 5/10\n",
            "125/125 [==============================] - 47s 374ms/step - loss: 0.5634 - accuracy: 0.7063 - val_loss: 0.5802 - val_accuracy: 0.7050\n",
            "Epoch 6/10\n",
            "125/125 [==============================] - 45s 360ms/step - loss: 0.5413 - accuracy: 0.7297 - val_loss: 0.5606 - val_accuracy: 0.7060\n",
            "Epoch 7/10\n",
            "125/125 [==============================] - 46s 365ms/step - loss: 0.5244 - accuracy: 0.7393 - val_loss: 0.5632 - val_accuracy: 0.7160\n",
            "Epoch 8/10\n",
            "125/125 [==============================] - 45s 362ms/step - loss: 0.5242 - accuracy: 0.7358 - val_loss: 0.5870 - val_accuracy: 0.6940\n",
            "Epoch 9/10\n",
            "125/125 [==============================] - 44s 349ms/step - loss: 0.5104 - accuracy: 0.7502 - val_loss: 0.5741 - val_accuracy: 0.7230\n",
            "Epoch 10/10\n",
            "125/125 [==============================] - 48s 381ms/step - loss: 0.4951 - accuracy: 0.7592 - val_loss: 0.5178 - val_accuracy: 0.7480\n"
          ]
        },
        {
          "output_type": "execute_result",
          "data": {
            "text/plain": [
              "<keras.callbacks.History at 0x7ff458712f10>"
            ]
          },
          "metadata": {},
          "execution_count": 5
        }
      ]
    },
    {
      "cell_type": "markdown",
      "source": [
        "# Avaliação da Rede Neural"
      ],
      "metadata": {
        "id": "_f8pRqeYDjVb"
      }
    },
    {
      "cell_type": "code",
      "source": [
        "previsoes = classificador.predict(base_teste)\n",
        "previsoes = (previsoes > 0.5)\n",
        "base_teste.class_indices"
      ],
      "metadata": {
        "colab": {
          "base_uri": "https://localhost:8080/"
        },
        "id": "lmDp_8hADmj9",
        "outputId": "02dfbd33-b729-427b-9c57-46c562bfb427"
      },
      "execution_count": null,
      "outputs": [
        {
          "output_type": "stream",
          "name": "stdout",
          "text": [
            "32/32 [==============================] - 6s 189ms/step\n"
          ]
        },
        {
          "output_type": "execute_result",
          "data": {
            "text/plain": [
              "{'cachorro': 0, 'gato': 1}"
            ]
          },
          "metadata": {},
          "execution_count": 6
        }
      ]
    },
    {
      "cell_type": "code",
      "source": [
        "accuracy_score(previsoes, base_teste.classes)"
      ],
      "metadata": {
        "colab": {
          "base_uri": "https://localhost:8080/"
        },
        "id": "3o7XPaROD1cH",
        "outputId": "97f23c95-d720-45b6-d09d-d83965291927"
      },
      "execution_count": null,
      "outputs": [
        {
          "output_type": "execute_result",
          "data": {
            "text/plain": [
              "0.748"
            ]
          },
          "metadata": {},
          "execution_count": 9
        }
      ]
    }
  ]
}